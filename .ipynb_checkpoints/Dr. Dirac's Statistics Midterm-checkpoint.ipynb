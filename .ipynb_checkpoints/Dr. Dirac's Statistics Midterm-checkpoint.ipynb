{
 "cells": [
  {
   "cell_type": "markdown",
   "id": "cd0c856d",
   "metadata": {},
   "source": [
    "# Statistical Parameters"
   ]
  },
  {
   "cell_type": "code",
   "execution_count": 1,
   "id": "892e2cd7",
   "metadata": {},
   "outputs": [],
   "source": [
    "# First import numpy library\n",
    "import numpy as np\n",
    "\n",
    "p_knows_the_material = 0.6\n",
    "p_not_knows_the_material = 1 - 0.6\n",
    "p_knows_material_but_picks_wrong_ans = 0.15\n",
    "p_student_not_know_mat_but_ans_correct =0.20\n"
   ]
  },
  {
   "cell_type": "markdown",
   "id": "a548cb3d",
   "metadata": {},
   "source": [
    "### # Defining P(A|B)"
   ]
  },
  {
   "cell_type": "code",
   "execution_count": 2,
   "id": "91806cce",
   "metadata": {},
   "outputs": [],
   "source": [
    "a = 'knows material'\n",
    "b = 'answers correctly'"
   ]
  },
  {
   "cell_type": "markdown",
   "id": "0e84d7d2",
   "metadata": {},
   "source": [
    "### Probability students knows the material"
   ]
  },
  {
   "cell_type": "code",
   "execution_count": 3,
   "id": "45a11a61",
   "metadata": {},
   "outputs": [
    {
     "name": "stdout",
     "output_type": "stream",
     "text": [
      "0.6\n"
     ]
    }
   ],
   "source": [
    "p_knows_material = p_knows_the_material\n",
    "print(p_knows_material)"
   ]
  },
  {
   "cell_type": "markdown",
   "id": "b081073d",
   "metadata": {},
   "source": [
    "### Given she knows the material what is the Probability that she answers correctly"
   ]
  },
  {
   "cell_type": "code",
   "execution_count": 4,
   "id": "af1cf79b",
   "metadata": {},
   "outputs": [
    {
     "name": "stdout",
     "output_type": "stream",
     "text": [
      "0.85\n"
     ]
    }
   ],
   "source": [
    "p_correct_ans_giv_know_mat = 1 - p_knows_material_but_picks_wrong_ans\n",
    "print(p_correct_ans_giv_know_mat)"
   ]
  },
  {
   "cell_type": "markdown",
   "id": "6e8eb167",
   "metadata": {},
   "source": [
    "### What is the probability of any student answering correctly"
   ]
  },
  {
   "cell_type": "code",
   "execution_count": 5,
   "id": "81a32ecb",
   "metadata": {},
   "outputs": [
    {
     "name": "stdout",
     "output_type": "stream",
     "text": [
      "0.5900000000000001\n"
     ]
    }
   ],
   "source": [
    "p_any_student_ans_correct = (p_correct_ans_giv_know_mat*p_knows_material)+(p_not_knows_the_material*p_student_not_know_mat_but_ans_correct)\n",
    "print(p_any_student_ans_correct)\n"
   ]
  },
  {
   "cell_type": "markdown",
   "id": "64f22ca1",
   "metadata": {},
   "source": [
    "### Calculate P(knows material|answers correctly)"
   ]
  },
  {
   "cell_type": "code",
   "execution_count": 6,
   "id": "e96275d3",
   "metadata": {},
   "outputs": [
    {
     "name": "stdout",
     "output_type": "stream",
     "text": [
      "0.8644067796610169\n"
     ]
    }
   ],
   "source": [
    "p_knows_material_given_answers_correctly = (p_correct_ans_giv_know_mat) * p_knows_material/p_any_student_ans_correct\n",
    "print(p_knows_material_given_answers_correctly )\n"
   ]
  }
 ],
 "metadata": {
  "kernelspec": {
   "display_name": "Python 3",
   "language": "python",
   "name": "python3"
  },
  "language_info": {
   "codemirror_mode": {
    "name": "ipython",
    "version": 3
   },
   "file_extension": ".py",
   "mimetype": "text/x-python",
   "name": "python",
   "nbconvert_exporter": "python",
   "pygments_lexer": "ipython3",
   "version": "3.8.8"
  }
 },
 "nbformat": 4,
 "nbformat_minor": 5
}
